{
 "cells": [
  {
   "cell_type": "code",
   "execution_count": 1,
   "id": "60a14f6c",
   "metadata": {},
   "outputs": [
    {
     "data": {
      "text/plain": [
       "{\n",
       "  parsed: {\n",
       "    MAINNET_RPC: 'https://eth-mainnet.alchemyapi.io/v2/u4w7XF4v8NN8q-jiWW51kl_Z9oXbaaa1',\n",
       "    FRAME_RPC: '127.0.0.1:1248',\n",
       "    Etherscan_APIKEY: 'YOUR_API_KEY'\n",
       "  }\n",
       "}"
      ]
     },
     "execution_count": 1,
     "metadata": {},
     "output_type": "execute_result"
    }
   ],
   "source": [
    "const ethers = require('ethers');\n",
    "require('dotenv').config({ path: '../.env' });\n",
    "\n",
    "let RPC, provider"
   ]
  },
  {
   "cell_type": "code",
   "execution_count": 2,
   "id": "595d6bc7",
   "metadata": {},
   "outputs": [
    {
     "data": {
      "text/plain": [
       "Promise { <pending> }"
      ]
     },
     "execution_count": 2,
     "metadata": {},
     "output_type": "execute_result"
    },
    {
     "name": "stdout",
     "output_type": "stream",
     "text": [
      "{\n",
      "  name: 'xdai',\n",
      "  chainId: 100,\n",
      "  ensAddress: null,\n",
      "  _defaultProvider: null\n",
      "}\n"
     ]
    }
   ],
   "source": [
    "RPC = process.env.RPC_MAINNET;\n",
    "provider = new ethers.providers.JsonRpcProvider(RPC)\n",
    "provider.getNetwork().then(resp => console.log(resp))"
   ]
  }
 ],
 "metadata": {
  "kernelspec": {
   "display_name": "JavaScript (Node.js)",
   "language": "javascript",
   "name": "javascript"
  },
  "language_info": {
   "file_extension": ".js",
   "mimetype": "application/javascript",
   "name": "javascript",
   "version": "16.14.2"
  }
 },
 "nbformat": 4,
 "nbformat_minor": 5
}
