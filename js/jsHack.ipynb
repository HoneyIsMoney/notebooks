{
 "cells": [
  {
   "cell_type": "code",
   "execution_count": 1,
   "id": "1424cc81",
   "metadata": {},
   "outputs": [
    {
     "name": "stdout",
     "output_type": "stream",
     "text": [
      "Working!!!\n"
     ]
    }
   ],
   "source": [
    "console.log('Working!!!')"
   ]
  },
  {
   "cell_type": "code",
   "execution_count": 1,
   "id": "595d6bc7",
   "metadata": {},
   "outputs": [
    {
     "name": "stdout",
     "output_type": "stream",
     "text": [
      "Working!!!\n"
     ]
    }
   ],
   "source": [
    "console.log('Working!!!')"
   ]
  }
 ],
 "metadata": {
  "kernelspec": {
   "display_name": "JavaScript (Node.js)",
   "language": "javascript",
   "name": "javascript"
  },
  "language_info": {
   "file_extension": ".js",
   "mimetype": "application/javascript",
   "name": "javascript",
   "version": "16.14.2"
  }
 },
 "nbformat": 4,
 "nbformat_minor": 5
}
