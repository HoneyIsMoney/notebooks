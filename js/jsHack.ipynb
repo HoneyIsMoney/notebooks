{
 "cells": [
  {
   "cell_type": "code",
   "execution_count": null,
   "id": "60a14f6c",
   "metadata": {},
   "outputs": [],
   "source": [
    "const ethers = require('ethers');\n",
    "require('dotenv').config({ path: '../.env' });\n",
    "\n",
    "let RPC, provider"
   ]
  },
  {
   "cell_type": "code",
   "execution_count": null,
   "id": "595d6bc7",
   "metadata": {},
   "outputs": [],
   "source": [
    "RPC = process.env.RPC_MAINNET;\n",
    "provider = new ethers.providers.JsonRpcProvider(RPC)\n",
    "provider.getNetwork().then(resp => console.log(resp))"
   ]
  }
 ],
 "metadata": {
  "kernelspec": {
   "display_name": "JavaScript (Node.js)",
   "language": "javascript",
   "name": "javascript"
  },
  "language_info": {
   "file_extension": ".js",
   "mimetype": "application/javascript",
   "name": "javascript",
   "version": "16.14.2"
  }
 },
 "nbformat": 4,
 "nbformat_minor": 5
}
