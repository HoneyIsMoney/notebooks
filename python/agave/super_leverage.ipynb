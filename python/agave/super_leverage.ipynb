{
 "cells": [
  {
   "cell_type": "markdown",
   "metadata": {},
   "source": [
    "# Leverage trading with the Agave platform\n",
    "\n",
    "1. fork gnosis chain \n",
    "```\n",
    "ganache-cli --fork https://rpc.gnosischain.com --account=\"0xa0e62e06ffc813d27fd05161e2e9dbf1050c8bb2a9eb03bb21dc300eb011db27, 0xD3C21BCECCEDA1000000\"\n",
    "```\n",
    "\n",
    "2. "
   ]
  },
  {
   "cell_type": "code",
   "execution_count": 1,
   "metadata": {},
   "outputs": [
    {
     "data": {
      "text/plain": [
       "True"
      ]
     },
     "execution_count": 1,
     "metadata": {},
     "output_type": "execute_result"
    }
   ],
   "source": [
    "from web3 import Web3\n",
    "from decouple import config\n",
    "RPC_Endpoint = config('FORK_RPC')\n",
    "\n",
    "w3 = Web3(Web3.HTTPProvider(RPC_Endpoint))\n",
    "w3.isConnected()"
   ]
  },
  {
   "cell_type": "code",
   "execution_count": 2,
   "metadata": {},
   "outputs": [
    {
     "name": "stdout",
     "output_type": "stream",
     "text": [
      "Ξ 3334134.430630804348\n"
     ]
    }
   ],
   "source": [
    "account = w3.eth._get_accounts()[0]\n",
    "balance = w3.eth.get_balance(account)\n",
    "print('Ξ', w3.fromWei(balance, 'ether'))"
   ]
  }
 ],
 "metadata": {
  "interpreter": {
   "hash": "ca36587422715e4c14615542e8a1bb30ec1e9897c83dbf76c9613a6033d875a5"
  },
  "kernelspec": {
   "display_name": "Python 3.8.10 ('venv': venv)",
   "language": "python",
   "name": "python3"
  },
  "language_info": {
   "codemirror_mode": {
    "name": "ipython",
    "version": 3
   },
   "file_extension": ".py",
   "mimetype": "text/x-python",
   "name": "python",
   "nbconvert_exporter": "python",
   "pygments_lexer": "ipython3",
   "version": "3.8.10"
  },
  "orig_nbformat": 4
 },
 "nbformat": 4,
 "nbformat_minor": 2
}
