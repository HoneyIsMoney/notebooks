{
 "cells": [
  {
   "cell_type": "markdown",
   "metadata": {},
   "source": [
    "# Leverage trading with the Agave platform\n",
    "\n",
    "fork gnosis chain \n",
    "```\n",
    "ganache-cli --fork https://rpc.gnosischain.com --account=\"0xa0e62e06ffc813d27fd05161e2e9dbf1050c8bb2a9eb03bb21dc300eb011db27, 0xD3C21BCECCEDA1000000\"\n",
    "```"
   ]
  },
  {
   "cell_type": "markdown",
   "metadata": {},
   "source": [
    "## imports and contracts"
   ]
  },
  {
   "cell_type": "code",
   "execution_count": 8,
   "metadata": {},
   "outputs": [],
   "source": [
    "from web3 import Web3\n",
    "from decouple import config\n",
    "import json\n",
    "\n",
    "RPC_Endpoint = config('FORK_RPC')\n",
    "w3 = Web3(Web3.HTTPProvider(RPC_Endpoint))\n",
    "account = w3.eth._get_accounts()[0]\n",
    "\n",
    "# Constants\n",
    "GWEI = 1000000000\n",
    "TOKEN = 1e18\n",
    "\n",
    "# Token Addresses\n",
    "wbtc_address     = Web3.toChecksumAddress('0x8e5bbbb09ed1ebde8674cda39a0c169401db4252')\n",
    "usdc_address     = Web3.toChecksumAddress('0xddafbb505ad214d7b80b1f830fccc89b60fb7a83')\n",
    "wxdai_address    = Web3.toChecksumAddress('0xe91d153e0b41518a2ce8dd3d7944fa863463a97d')\n",
    "link_address     = Web3.toChecksumAddress('0xe2e73a1c69ecf83f464efce6a5be353a37ca09b2')\n",
    "gno_address      = Web3.toChecksumAddress('0x9c58bacc331c9aa871afd802db6379a98e80cedb')\n",
    "weth_address     = Web3.toChecksumAddress('0x6a023ccd1ff6f2045c3309768ead9e68f978f6e1')\n",
    "fox_address      = Web3.toChecksumAddress('0x21a42669643f45bc0e086b8fc2ed70c23d67509d')\n",
    "\n",
    "# agToken Addresses\n",
    "ag_wbtc_address  = Web3.toChecksumAddress('0x4863cfaf3392f20531aa72ce19e5783f489817d6')\n",
    "ag_usdc_address  = Web3.toChecksumAddress('0x291b5957c9cbe9ca6f0b98281594b4eb495f4ec1')\n",
    "ag_wxdai_address = Web3.toChecksumAddress('0xd4e420bbf00b0f409188b338c5d87df761d6c894')\n",
    "ag_link_address  = Web3.toChecksumAddress('0xa286ce70fb3a6269676c8d99bd9860de212252ef')\n",
    "ag_gno_address   = Web3.toChecksumAddress('0xa26783ead6c1f4744685c14079950622674ae8a8')\n",
    "ag_weth_address  = Web3.toChecksumAddress('0x44932e3b1e662adde2f7bac6d5081c5adab908c6')\n",
    "ag_fox_address   = Web3.toChecksumAddress('0xa916a4891d80494c6cb0b49b11fd68238aaaf617')\n",
    "\n",
    "# Protocol Addresses\n",
    "weth_gateway_address     = '0x36A644cC38Ae257136EEca5919800f364d73FeFC'\n",
    "lendingpool_address      = '0x5E15d5E33d318dCEd84Bfe3F4EACe07909bE6d9c'\n",
    "address_provider_address = '0x3673C22153E363B1da69732c4E0aA71872Bbb87F'\n",
    "price_oracle_address     = '0x64cE22B5bA4175002AC5B6CCE3570432cA363c29'\n",
    "data_provider_address    = '0x24dCbd376Db23e4771375092344f5CbEA3541FC0'\n",
    "\n",
    "# Contract instances\n",
    "lendingPool = w3.eth.contract(address=lendingpool_address, abi=json.load(open('./abis/LendingPool.json', 'r')))\n",
    "wethGateway = w3.eth.contract(address=weth_gateway_address, abi=json.load(open('./abis/WethGateway.json', 'r')))\n",
    "addressesProvider = w3.eth.contract(address=address_provider_address, abi=json.load(open('./abis/LendingPoolAddressesProvider.json', 'r')))\n",
    "priceOracle = w3.eth.contract(address=price_oracle_address, abi=json.load(open('./abis/AgaveOracle.json', 'r')))\n",
    "dataProvider = w3.eth.contract(address=data_provider_address, abi=json.load(open('./abis/AgaveDataProvider.json', 'r')))"
   ]
  },
  {
   "cell_type": "markdown",
   "metadata": {},
   "source": [
    "## Deposit xDAI into Agave"
   ]
  },
  {
   "cell_type": "code",
   "execution_count": 9,
   "metadata": {},
   "outputs": [
    {
     "name": "stdout",
     "output_type": "stream",
     "text": [
      "gas used:  224139\n"
     ]
    }
   ],
   "source": [
    "tx_hash = wethGateway.functions.depositETH(account, 0).transact({\n",
    "    'from': account, \n",
    "    'value': w3.toWei(100000, 'ether'),\n",
    "    'gas_price': 10 * GWEI,\n",
    "})\n",
    "receipt = w3.eth.wait_for_transaction_receipt(tx_hash)\n",
    "print(\"gas used: \", receipt['gasUsed'])\n",
    "\n"
   ]
  },
  {
   "cell_type": "markdown",
   "metadata": {},
   "source": [
    "## Collateral and Borrow Limit"
   ]
  },
  {
   "cell_type": "code",
   "execution_count": 10,
   "metadata": {},
   "outputs": [
    {
     "name": "stdout",
     "output_type": "stream",
     "text": [
      "Collateral wXDAI: 400000.005112121354839779\n",
      "Available wXDAI:  320000.004089697083871823\n"
     ]
    }
   ],
   "source": [
    "# [totalCollateralETH, totalDebtETH, availableBorrowsETH, currentLiquidationThreshold, ltv, healthFactor]\n",
    "account_data = lendingPool.functions.getUserAccountData(account).call()\n",
    "collateralInDAI = account_data[0]\n",
    "availableToBorrowInDAI = account_data[2]\n",
    "print(\"Collateral wXDAI:\", w3.fromWei(collateralInDAI, 'ether'))\n",
    "print(\"Available wXDAI: \", w3.fromWei(availableToBorrowInDAI, 'ether'))"
   ]
  },
  {
   "cell_type": "code",
   "execution_count": 11,
   "metadata": {},
   "outputs": [
    {
     "name": "stdout",
     "output_type": "stream",
     "text": [
      "wBTC Price: 40283.773456038483984444\n",
      "can borrow: 9.929556513583309 BTC\n"
     ]
    }
   ],
   "source": [
    "def getAvailableToBorrowInAsset(asset,available):\n",
    "    price = priceOracle.functions.getAssetPrice(asset).call()\n",
    "    print(\"wBTC Price:\", w3.fromWei(price, \"ether\"))\n",
    "\n",
    "    return available / price\n",
    "\n",
    "wbtc_limit = getAvailableToBorrowInAsset(wbtc_address, collateralInDAI)\n",
    "print(\"can borrow:\", wbtc_limit, \"BTC\")"
   ]
  },
  {
   "cell_type": "markdown",
   "metadata": {},
   "source": [
    "# Notes\n",
    "myContract.events.myEvent().processReceipt(receipt)\n",
    "deposit_event = wethGateway.events.Deposit().processReceipt(deposit_receipt_1)\n",
    "oracle = addressesProvider.functions.getPriceOracle().call()\n",
    "\n",
    "receipt = w3.eth.wait_for_transaction_receipt(tx_hash)\n",
    "deposit_filter = lendingPool.events.Deposit.createFilter(\n",
    "    fromBlock=receipt.blockNumber, \n",
    ")\n",
    "print(deposit_filter.get_new_entries())\n"
   ]
  }
 ],
 "metadata": {
  "interpreter": {
   "hash": "ca36587422715e4c14615542e8a1bb30ec1e9897c83dbf76c9613a6033d875a5"
  },
  "kernelspec": {
   "display_name": "Python 3.8.10 ('venv': venv)",
   "language": "python",
   "name": "python3"
  },
  "language_info": {
   "codemirror_mode": {
    "name": "ipython",
    "version": 3
   },
   "file_extension": ".py",
   "mimetype": "text/x-python",
   "name": "python",
   "nbconvert_exporter": "python",
   "pygments_lexer": "ipython3",
   "version": "3.8.10"
  },
  "orig_nbformat": 4
 },
 "nbformat": 4,
 "nbformat_minor": 2
}
