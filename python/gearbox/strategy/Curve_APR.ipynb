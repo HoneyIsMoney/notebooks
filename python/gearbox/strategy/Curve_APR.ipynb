{
 "cells": [
  {
   "cell_type": "code",
   "execution_count": null,
   "id": "39734b0e",
   "metadata": {},
   "outputs": [],
   "source": [
    "import requests\n",
    "import json\n",
    "import pandas as pd\n",
    "\n",
    "url = 'https://www.convexfinance.com/api/curve-apys'\n",
    "params = {}\n",
    "response = requests.get(url, params=params)\n",
    "response = json.loads(response.text)\n",
    "response = response['apys']\n",
    "df = pd.DataFrame.from_dict(response, orient='index')\n",
    "df"
   ]
  },
  {
   "cell_type": "code",
   "execution_count": null,
   "id": "8266bdbf",
   "metadata": {},
   "outputs": [],
   "source": [
    "GITHUB_POOLS = \"https://api.github.com/repos/curvefi/curve-contract/contents/contracts/pools\"\n",
    "GITHUB_POOLDATA = \"https://raw.githubusercontent.com/curvefi/curve-contract/master/contracts/pools/{}/pooldata.json\"  # noqa: E501\n",
    "pool_data = {}\n",
    "pool_names = [i[\"name\"] for i in requests.get(GITHUB_POOLS).json() if i[\"type\"] == \"dir\"]\n",
    "\n",
    "for name in pool_names:\n",
    "    data = requests.get(GITHUB_POOLDATA.format(name)).json()\n",
    "    if \"swap_address\" not in data:\n",
    "        print(f\"Cannot add {name} - no deployment address!\")\n",
    "        continue\n",
    "    pool_data[name] = data\n",
    "    \n",
    "pool_data"
   ]
  }
 ],
 "metadata": {
  "kernelspec": {
   "display_name": "Python 3 (ipykernel)",
   "language": "python",
   "name": "python3"
  },
  "language_info": {
   "codemirror_mode": {
    "name": "ipython",
    "version": 3
   },
   "file_extension": ".py",
   "mimetype": "text/x-python",
   "name": "python",
   "nbconvert_exporter": "python",
   "pygments_lexer": "ipython3",
   "version": "3.9.7"
  }
 },
 "nbformat": 4,
 "nbformat_minor": 5
}
