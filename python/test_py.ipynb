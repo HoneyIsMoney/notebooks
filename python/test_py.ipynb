{
 "cells": [
  {
   "cell_type": "markdown",
   "metadata": {},
   "source": [
    "Start a fork of mainnet\n",
    "\n",
    "`ganache-cli --fork $MAINNET_RPC`"
   ]
  },
  {
   "cell_type": "code",
   "execution_count": null,
   "metadata": {},
   "outputs": [],
   "source": [
    "from web3 import Web3\n",
    "from decouple import config\n",
    "# RPC_Endpoint = config('FORK_RPC')\n",
    "\n",
    "# w3 = Web3(Web3.HTTPProvider(RPC_Endpoint))\n",
    "# w3.isConnected()"
   ]
  },
  {
   "cell_type": "code",
   "execution_count": null,
   "metadata": {},
   "outputs": [],
   "source": [
    "balance = w3.eth.get_balance(Web3.toChecksumAddress('0x8bee0043b5f369367eb694489305962e72b453b2'))\n",
    "print('Ξ', w3.fromWei(balance, 'ether'))"
   ]
  },
  {
   "cell_type": "markdown",
   "metadata": {},
   "source": []
  }
 ],
 "metadata": {
  "interpreter": {
   "hash": "ca36587422715e4c14615542e8a1bb30ec1e9897c83dbf76c9613a6033d875a5"
  },
  "kernelspec": {
   "display_name": "Python 3.8.10 ('venv': venv)",
   "language": "python",
   "name": "python3"
  },
  "language_info": {
   "codemirror_mode": {
    "name": "ipython",
    "version": 3
   },
   "file_extension": ".py",
   "mimetype": "text/x-python",
   "name": "python",
   "nbconvert_exporter": "python",
   "pygments_lexer": "ipython3",
   "version": "3.8.10"
  },
  "orig_nbformat": 4
 },
 "nbformat": 4,
 "nbformat_minor": 2
}
