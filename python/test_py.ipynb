{
 "cells": [
  {
   "cell_type": "code",
   "execution_count": 1,
   "metadata": {},
   "outputs": [
    {
     "data": {
      "text/plain": [
       "True"
      ]
     },
     "execution_count": 1,
     "metadata": {},
     "output_type": "execute_result"
    }
   ],
   "source": [
    "from web3 import Web3\n",
    "from decouple import config\n",
    "RPC_Endpoint = config('MAINNET_RPC')\n",
    "\n",
    "w3 = Web3(Web3.HTTPProvider(RPC_Endpoint))\n",
    "w3.isConnected()"
   ]
  }
 ],
 "metadata": {
  "interpreter": {
   "hash": "ca540bdb65eb0fff253934f91a7136dd44c1978018fecae5b4aa43d5225cfc5b"
  },
  "kernelspec": {
   "display_name": "Python 3.8.10 ('venv': venv)",
   "language": "python",
   "name": "python3"
  },
  "language_info": {
   "codemirror_mode": {
    "name": "ipython",
    "version": 3
   },
   "file_extension": ".py",
   "mimetype": "text/x-python",
   "name": "python",
   "nbconvert_exporter": "python",
   "pygments_lexer": "ipython3",
   "version": "3.8.10"
  },
  "orig_nbformat": 4
 },
 "nbformat": 4,
 "nbformat_minor": 2
}
